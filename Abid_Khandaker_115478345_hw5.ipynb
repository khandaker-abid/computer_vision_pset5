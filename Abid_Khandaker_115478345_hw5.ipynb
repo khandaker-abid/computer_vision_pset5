{
 "cells": [
  {
   "cell_type": "markdown",
   "metadata": {
    "id": "XSfnuObtYYMH"
   },
   "source": [
    "# CSE327 Homework 5\n",
    "**Due date: 23:59 on Dec 10, 2024 (Tuesday)**\n",
    "\n",
    "In this semester, we will use Google Colab for the assignments, which allows us to utilize resources that some of us might not have in their local machines such as GPUs. You will need to use your Stony Brook (*.stonybrook.edu) account for coding and Google Drive to save your results.\n",
    "\n",
    "## Google Colab Tutorial\n",
    "---\n",
    "Go to https://colab.research.google.com/notebooks/, you will see a tutorial named \"Welcome to Colaboratory\" file, where you can learn the basics of using google colab.\n",
    "\n",
    "Settings used for assignments: ***Edit -> Notebook Settings -> Runtime Type (Python 3)***.\n",
    "\n",
    "\n",
    "## Description\n",
    "---\n",
    "This project is an introduction to deep learning tools for computer vision. You will design and train deep convolutional networks for scene recognition using [PyTorch](http://pytorch.org). You can visualize the\n",
    "structure of the network with [mNeuron] (http://vision03.csail.mit.edu/cnn_art/index.html)\n",
    "\n",
    "Remember Homework 3: Scene recognition with bag of words. You worked hard to design a bag of features representations that achieved 60% to 70% accuracy (most likely) on 16-way scene classification. We're going to attack the same task with deep learning and get higher accuracy. Training from scratch won't work quite as well as homework 3 due to the insufficient amount of data, fine-tuning an existing network will work much better than homework 3.\n",
    "\n",
    "In Problem 1 of the project you will train a deep convolutional network from scratch to recognize scenes. The starter codes gives you methods to load data and display them. You will need to define a simple network architecture and add jittering, normalization, and regularization to increase recognition accuracy to 50, 60, or perhaps 70%. Unfortunately, we only have 2,400 training examples so it doesn't seem possible to train a network from scratch which outperforms hand-crafted features\n",
    "\n",
    "For Problem 2 you will instead fine-tune a pre-trained deep network to achieve about 85% accuracy on the task. We will use the pretrained AlexNet network which was not trained to recognize scenes at all.\n",
    "\n",
    "\n",
    "These two approaches represent the most common approaches to recognition problems in computer vision today -- train a deep network from scratch if you have enough data (it's not always obvious whether or not you do), and if you cannot then instead fine-tune a pre-trained network.\n",
    "\n",
    "For Problem 3 you will train two networks for object detection, the expected performance for Faster R-CNN will be around 0.13(mAP50) and for YOLO it will be around 0.682(mAP50)\n",
    "\n",
    "There are 3 problems in this homework with a total of 110 points. Be sure to read **Submission Guidelines** below. They are important. For the problems requiring text descriptions, you might want to add a markdown block for that.\n",
    "\n",
    "## Dataset\n",
    "---\n",
    "Save the [dataset(click me)](https://drive.google.com/open?id=1NWC3TMsXSWN2TeoYMCjhf2N1b-WRDh-M) into your working folder in your Google Drive for this homework. <br>\n",
    "Under your root folder, there should be a folder named \"data\" (i.e. XXX/Surname_Givenname_SBUID/data) containing the images.\n",
    "**Do not upload** the data subfolder before submitting on blackboard due to size limit. There should be only one .ipynb file under your root folder Surname_Givenname_SBUID.\n",
    "\n",
    "## Some Tutorials (PyTorch)\n",
    "---\n",
    "- You will be using PyTorch for deep learning toolbox (follow the [link](http://pytorch.org) for installation).\n",
    "- For PyTorch beginners, please read this [tutorial](http://pytorch.org/tutorials/beginner/deep_learning_60min_blitz.html) before doing your homework.\n",
    "- Feel free to study more tutorials at http://pytorch.org/tutorials/.\n",
    "- Find cool visualization here at http://playground.tensorflow.org.\n",
    "\n",
    "\n",
    "## Starter Code\n",
    "---\n",
    "In the starter code, you are provided with a function that loads data into minibatches for training and testing in PyTorch."
   ]
  },
  {
   "cell_type": "code",
   "execution_count": 1,
   "metadata": {
    "id": "0UA6WFgcYYMI"
   },
   "outputs": [],
   "source": [
    "# import packages here\n",
    "import cv2\n",
    "import numpy as np\n",
    "import matplotlib.pyplot as plt\n",
    "import glob\n",
    "import random\n",
    "import time\n",
    "import gc\n",
    "\n",
    "import torch\n",
    "import torchvision\n",
    "import torchvision.transforms as transforms\n",
    "\n",
    "from torch.autograd import Variable\n",
    "from torch import optim\n",
    "import torch.nn as nn\n",
    "import torch.nn.functional as F\n",
    "\n",
    "from torch.utils.data import Dataset\n",
    "import pandas as pd\n",
    "from torch.utils.data import DataLoader\n",
    "from torchvision.models.detection import fasterrcnn_resnet50_fpn\n",
    "from torchvision.models.detection import FasterRCNN\n",
    "from torchvision.models.detection.faster_rcnn import FastRCNNPredictor\n",
    "from tqdm import tqdm\n",
    "from torch.optim import lr_scheduler\n",
    "from torchvision import models\n",
    "\n",
    "from sklearn.svm import LinearSVC\n",
    "from sklearn.multiclass import OneVsRestClassifier as OVR\n",
    "from sklearn.preprocessing import StandardScaler"
   ]
  },
  {
   "cell_type": "code",
   "execution_count": null,
   "metadata": {
    "id": "L7T72O-1ks-a"
   },
   "outputs": [],
   "source": [
    "# Mount your google drive where you've saved your assignment folder\n",
    "from google.colab import drive\n",
    "drive.mount('/content/gdrive')"
   ]
  },
  {
   "cell_type": "code",
   "metadata": {
    "id": "xIT3WIuykrg0",
    "jupyter": {
     "is_executing": true
    }
   },
   "source": [
    "# Set your working directory (in your google drive)\n",
    "#   change it to your specific homework directory.\n",
    "%cd '/content/gdrive/My Drive/CSE327/Abid_Khandaker_115478345_hw5'"
   ],
   "outputs": [],
   "execution_count": null
  },
  {
   "cell_type": "code",
   "execution_count": null,
   "metadata": {
    "id": "0NxnBcUqk_9B"
   },
   "outputs": [],
   "source": [
    "# ==========================================\n",
    "#    Load Training Data and Testing Data\n",
    "# ==========================================\n",
    "class_names = [name[13:] for name in glob.glob('./data/train/*')]\n",
    "class_names = dict(zip(range(len(class_names)), class_names))\n",
    "print(\"class_names: %s \" % class_names)\n",
    "n_train_samples = 150\n",
    "n_test_samples = 50\n",
    "\n",
    "def img_norm(img):\n",
    "  #\n",
    "  # Write your code here\n",
    "  # normalize img pixels to [-1, 1]\n",
    "  #\n",
    "  norm_img = cv2.normalize(img.copy(), None, alpha=-1, beta=1, norm_type=cv2.NORM_MINMAX, dtype=cv2.CV_32F)\n",
    "  return norm_img\n",
    "\n",
    "def load_dataset(path, img_size, num_per_class=-1, batch_num=1, shuffle=False, augment=False, is_color=False,\n",
    "                rotate_90=False, zero_centered=False):\n",
    "\n",
    "    data = []\n",
    "    labels = []\n",
    "\n",
    "    if is_color:\n",
    "        channel_num = 3\n",
    "    else:\n",
    "        channel_num = 1\n",
    "\n",
    "    # read images and resizing\n",
    "    for id, class_name in class_names.items():\n",
    "        print(\"Loading images from class: %s\" % id)\n",
    "        img_path_class = glob.glob(path + class_name + '/*.jpg')\n",
    "        if num_per_class > 0:\n",
    "            img_path_class = img_path_class[:num_per_class]\n",
    "        labels.extend([id]*len(img_path_class))\n",
    "        for filename in img_path_class:\n",
    "            if is_color:\n",
    "                img = cv2.imread(filename)\n",
    "            else:\n",
    "                img = cv2.imread(filename, 0)\n",
    "\n",
    "            # resize the image\n",
    "            img = cv2.resize(img, img_size, cv2.INTER_LINEAR)\n",
    "\n",
    "            if is_color:\n",
    "                img = np.transpose(img, [2, 0, 1])\n",
    "\n",
    "            # norm pixel values to [-1, 1]\n",
    "            data.append(img_norm(img))\n",
    "\n",
    "    randcrop = transforms.Compose([\n",
    "        transforms.ToTensor(),\n",
    "        transforms.RandomResizedCrop(size=64,scale=(.7,1),ratio=(1,1))\n",
    "    ])\n",
    "\n",
    "    #\n",
    "    # Write your Data Augmentation code here\n",
    "    # mirroring\n",
    "    #\n",
    "    for i in range(len(data)):\n",
    "      img = data[i].copy()\n",
    "      image1 = cv2.flip(img, 1)\n",
    "      data.append(image1)\n",
    "      labels.extend([labels[i]]*1)\n",
    "\n",
    "    #\n",
    "    # Write your Data Normalization code here\n",
    "    # norm data to zero-centered\n",
    "    #\n",
    "    for i in range(len(data)):\n",
    "      img = data[i].copy()\n",
    "      data[i] = data[i] - np.mean(img)\n",
    "\n",
    "    # randomly permute (this step is important for training)\n",
    "    if shuffle:\n",
    "        bundle = list(zip(data, labels))\n",
    "        random.shuffle(bundle)\n",
    "        data, labels = zip(*bundle)\n",
    "\n",
    "    # divide data into minibatches of TorchTensors\n",
    "    if batch_num > 1:\n",
    "        batch_data = []\n",
    "        batch_labels = []\n",
    "\n",
    "        print(len(data))\n",
    "        print(batch_num)\n",
    "\n",
    "        for i in range(int(len(data) / batch_num)):\n",
    "            minibatch_d = data[i*batch_num: (i+1)*batch_num]\n",
    "            minibatch_d = np.reshape(minibatch_d, (batch_num, channel_num, img_size[0], img_size[1]))\n",
    "            batch_data.append(torch.from_numpy(minibatch_d))\n",
    "\n",
    "            minibatch_l = labels[i*batch_num: (i+1)*batch_num]\n",
    "            batch_labels.append(torch.LongTensor(minibatch_l))\n",
    "        data, labels = batch_data, batch_labels\n",
    "\n",
    "    return zip(batch_data, batch_labels)"
   ]
  },
  {
   "cell_type": "code",
   "execution_count": null,
   "metadata": {
    "id": "wHI2VYbDloje"
   },
   "outputs": [],
   "source": [
    "# load data into size (64, 64)\n",
    "img_size = (64, 64)\n",
    "batch_num = 50 # training sample number per batch\n",
    "\n",
    "# load training dataset\n",
    "trainloader_small = list(load_dataset('./data/train/', img_size, batch_num=batch_num, shuffle=True,\n",
    "                                      augment=True, zero_centered=True))\n",
    "train_num = len(trainloader_small)\n",
    "print(\"Finish loading %d minibatches(=%d) of training samples.\" % (train_num, batch_num))\n",
    "\n",
    "# load testing dataset\n",
    "testloader_small = list(load_dataset('./data/test/', img_size, num_per_class=50, batch_num=batch_num))\n",
    "test_num = len(testloader_small)\n",
    "print(\"Finish loading %d minibatches(=%d) of testing samples.\" % (test_num, batch_num))"
   ]
  },
  {
   "cell_type": "code",
   "execution_count": null,
   "metadata": {
    "id": "krCXjDOzlq0f"
   },
   "outputs": [],
   "source": [
    "# show some images\n",
    "def imshow(img):\n",
    "    img = img / 2 + 0.5     # unnormalize\n",
    "    npimg = img.numpy()\n",
    "    if len(npimg.shape) > 2:\n",
    "        npimg = np.transpose(img, [1, 2, 0])\n",
    "    plt.figure\n",
    "    plt.imshow(npimg, 'gray')\n",
    "    plt.show()\n",
    "img, label = trainloader_small[0][0][11][0], trainloader_small[0][1][11]\n",
    "label = int(np.array(label))\n",
    "print(class_names[label])\n",
    "imshow(img)"
   ]
  },
  {
   "cell_type": "markdown",
   "metadata": {
    "id": "JGA-K6QzYYMR"
   },
   "source": [
    "# Problem 1: Training a Network From Scratch\n",
    "{Part 1: 20 points} Gone are the days of hand designed features. Now we have end-to-end learning in which a highly non-linear representation is learned for our data to maximize our objective (in this case, 16-way classification accuracy). Instead of 70% accuracy we can now recognize scenes with... 25% accuracy. OK, that didn't work at all. Try to boost the accuracy by doing the following:\n",
    "\n",
    "**Data Augmentation**: We don't have enough training data, let's augment the training data.\n",
    "If you left-right flip (mirror) an image of a scene, it never changes categories. A kitchen doesn't become a forest when mirrored. This isn't true in all domains — a \"d\" becomes a \"b\" when mirrored, so you can't \"jitter\" digit recognition training data in the same way. But we can synthetically increase our amount of training data by left-right mirroring training images during the learning process.\n",
    "\n",
    "After you implement mirroring, you should notice that your training error doesn't drop as quickly. That's actually a good thing, because it means the network isn't overfitting to the 2,400 original training images as much (because it sees 4,800 training images now, although they're not as good as 4,800 truly independent samples). Because the training and test errors fall more slowly, you may need more training epochs or you may try modifying the learning rate. You should see a roughly 10% increase in accuracy by adding mirroring. You are **required** to implement mirroring as data augmentation for this part.\n",
    "\n",
    "You can try more elaborate forms of jittering -- zooming in a random amount, rotating a random amount, taking a random crop, etc. These are not required, you might want to try these in the bonus part.\n",
    "\n",
    "**Data Normalization**: The images aren't zero-centered. One simple trick which can help a lot is to subtract the mean from every image. It would arguably be more proper to only compute the mean from the training images (since the test/validation images should be strictly held out) but it won't make much of a difference. After doing this you should see another 15% or so increase in accuracy. This part is **required**.\n",
    "\n",
    "**Network Regularization**: Add dropout layer. If you train your network (especially for more than the default 30 epochs) you'll see that the training error can decrease to zero while the val top1 error hovers at 40% to 50%. The network has learned weights which can perfectly recognize the training data, but those weights don't generalize to held out test data. The best regularization would be more training data but we don't have that. Instead we will use dropout regularization.\n",
    "\n",
    "What does dropout regularization do? It randomly turns off network connections at training time to fight overfitting. This prevents a unit in one layer from relying too strongly on a single unit in the previous layer. Dropout regularization can be interpreted as simultaneously training many \"thinned\" versions of your network. At test, all connections are restored which is analogous to taking an average prediction over all of the \"thinned\" networks. You can see a more complete discussion of dropout regularization in this [paper](https://www.cs.toronto.edu/~hinton/absps/JMLRdropout.pdf).\n",
    "\n",
    "The dropout layer has only one free parameter — the dropout rate — the proportion of connections that are randomly deleted. The default of 0.5 should be fine. Insert a dropout layer between your convolutional layers. In particular, insert it directly before your last convolutional layer. Your test accuracy should increase by another 10%. Your train accuracy should decrease much more slowly. That's to be expected — you're making life much harder for the training algorithm by cutting out connections randomly.\n",
    "\n",
    "If you increase the number of training epochs (and maybe decrease the learning rate) **you should be able to achieve around 50% test accuracy**. In this part, you are **required** to add dropout layer to your network.\n",
    "\n",
    "Please give detailed descriptions of your network layout in the following format:<br>\n",
    "Data augmentation: [descriptions]<br>\n",
    "Data normalization: [descriptions]<br>\n",
    "Layer 1: [layer_type]: [Parameters]<br>\n",
    "Layer 2: [layer_type]: [Parameters]<br>\n",
    "...<br>\n",
    "Then report the final accuracy on test set and time consumed for training and testing separately.\n",
    "\n",
    "{Part 2: 15 points} Try **three techniques** taught in the class to increase the accuracy of your model. Such as increasing training data by randomly rotating training images, adding batch normalization, different activation functions (e.g., sigmoid) and model architecture modification. Note that too many layers can do you no good due to insufficient training data. Clearly describe your method and accuracy increase/decrease for each of the three techniques."
   ]
  },
  {
   "cell_type": "code",
   "execution_count": 24,
   "metadata": {
    "id": "K-m0vrjVZR2f"
   },
   "outputs": [],
   "source": [
    "class CNN(nn.Module):\n",
    "\n",
    "  def __init__(self, classes: int, inner_channels, kernel_dim):\n",
    "    super(CNN, self).__init__()\n",
    "    self.conv1 = nn.Conv2d(in_channels=1, out_channels=inner_channels, kernel_size=kernel_dim, stride=1, padding =1)\n",
    "    self.pool = nn.MaxPool2d(kernel_size=2, stride=2)\n",
    "    self.conv2 = nn.Conv2d(in_channels=inner_channels, out_channels=2*inner_channels, kernel_size=kernel_dim, stride=1, padding=1)\n",
    "    self.fully_connected = nn.Linear(3*inner_channels*8*8, classes)\n",
    "    self.norm1 = nn.BatchNorm2d(num_features=inner_channels)\n",
    "    self.norm2 = nn.BatchNorm2d(num_features=2*inner_channels)\n",
    "    self.norm3 = nn.BatchNorm2d(num_features = 3*inner_channels)\n",
    "    self.dropout = nn.Dropout2d(p=.5)\n",
    "    self.conv3 = nn.Conv2d(in_channels=2*inner_channels, out_channels=3*inner_channels, kernel_size=kernel_dim, stride=1, padding=1)\n",
    "\n",
    "  def forward(self, input):\n",
    "    y = F.tanh(self.conv1(input))\n",
    "    y = self.pool(y)\n",
    "    y = self.norm1(y)\n",
    "    y = F.tanh(self.conv2(y))\n",
    "    y = self.pool(y)\n",
    "    y = self.norm2(y)\n",
    "    y = self.dropout(y)\n",
    "    y = F.tanh(self.conv3(y))\n",
    "    y = self.pool(y)\n",
    "    y = self.norm3(y)\n",
    "    y = y.reshape(y.shape[0],-1)\n",
    "    y = self.fully_connected(y)\n",
    "    return y\n"
   ]
  },
  {
   "cell_type": "code",
   "execution_count": null,
   "metadata": {
    "id": "em390PMQjyiJ"
   },
   "outputs": [],
   "source": [
    "# ==========================================\n",
    "#       Define Network Architecture\n",
    "# ==========================================\n",
    "\n",
    "# Object that takes in an inner_channels variable n, in my instance n is 16\n",
    "# Data Augmentation: flip every image horizontally using cv2 and add picture and label to dataset\n",
    "# Data Normalization: subtract every image by the np.mean() of it\n",
    "# Layer 1: Convolution: 1 in_channel -> n out_channels, 3X3 kernel size generally, 1 stride, 1 padding\n",
    "# Layer 2: Pool: 2X2 kernel, 2 stride\n",
    "# Layer 3: Batch Norm: n features\n",
    "# Layer 4: Convolution: n in_channels -> 2n out_channels, 3x3 kernel size generally, 1 stride, 1 padding\n",
    "# Layer 5: Pool: 2X2 kernel, 2 stride\n",
    "# Layer 6: Batch Norm: 2n features\n",
    "# Layer 7: Dropout: p=.5\n",
    "# Layer 8: Convolution: 2n in_channels -> 3n out_channels, 3x3 kernel size generally, 1 stride, 1 padding\n",
    "# Layer 9: Pool: 2X2 kernel, 2 stride\n",
    "# Layer 10: Batch Norm: 3n features\n",
    "# Layer 11: Fully Connected (Linear): 8*8*3n in_channels -> 16 out_channels (for 16 classes)\n",
    "\n",
    "# Time taken with GPU: 33s for training, 0s for testing\n",
    "# Accuracy before adjustments: 50.1250\n",
    "# Accuracy after adjustments: 65.8750"
   ]
  },
  {
   "cell_type": "code",
   "execution_count": 25,
   "metadata": {
    "id": "euD0rE4qdwXR"
   },
   "outputs": [],
   "source": [
    "# ==========================================\n",
    "#         Optimize/Train Network\n",
    "# ==========================================\n",
    "\n",
    "power = \"cuda\" if torch.cuda.is_available() else \"cpu\"\n",
    "model = CNN(classes=16, inner_channels=16, kernel_dim=3).to(power)\n",
    "loss = nn.CrossEntropyLoss()\n",
    "learning = .0008\n",
    "opt = optim.Adam(model.parameters(), lr=learning)\n",
    "epoch = 70\n",
    "for i in range(epoch):\n",
    "  for batch in trainloader_small:\n",
    "    inputs = batch[0].to(power)\n",
    "    labels = batch[1].to(power)\n",
    "    pred = model(inputs)\n",
    "    l = loss(pred, labels)\n",
    "    opt.zero_grad()\n",
    "    l.backward()\n",
    "    opt.step()"
   ]
  },
  {
   "cell_type": "code",
   "execution_count": null,
   "metadata": {
    "id": "uAg5qXo1-fZe"
   },
   "outputs": [],
   "source": [
    "# ==========================================\n",
    "#            Evaluating Network\n",
    "# ==========================================\n",
    "\n",
    "def score(data, model):\n",
    "  correct = 0\n",
    "  n = 0\n",
    "  model.eval()\n",
    "  with torch.no_grad():\n",
    "    for batch in data:\n",
    "      inputs = batch[0].to(power)\n",
    "      labels = batch[1].to(power)\n",
    "      pred = model(inputs)\n",
    "      _, c = pred.max(1)\n",
    "      correct += (c==labels).sum()\n",
    "      n += pred.size(0)\n",
    "  model.train()\n",
    "  return (correct/n * 100)\n",
    "\n",
    "print(score(testloader_small, model))"
   ]
  },
  {
   "cell_type": "markdown",
   "metadata": {
    "id": "dt8uBNtNRTMS"
   },
   "source": [
    "## Part2\n",
    "List each of the techniques you used and the performances after using these techniques\n",
    "<br> Please clearly indicate the techniques you use in the text blocks"
   ]
  },
  {
   "cell_type": "code",
   "execution_count": null,
   "metadata": {
    "id": "qpfw5zeqRSuE"
   },
   "outputs": [],
   "source": [
    "# ==========================================\n",
    "#       Technique1\n",
    "# ==========================================\n",
    "\n",
    "# I decided to change the activation function from ReLU to tanh. I\n",
    "# thought that it would be useful given this is image classification\n",
    "# and it increased accuracy by 5%"
   ]
  },
  {
   "cell_type": "code",
   "execution_count": null,
   "metadata": {
    "id": "Vh1j5bXaRsYL"
   },
   "outputs": [],
   "source": [
    "# ==========================================\n",
    "#       Technique2\n",
    "# ==========================================\n",
    "\n",
    "# I integrated Batch Normalization after each activation function and pooling cycle\n",
    "# for the architecture cycle, and implemented it with PyTorch. I saw a net\n",
    "# accuracy improvement of 4%"
   ]
  },
  {
   "cell_type": "code",
   "execution_count": null,
   "metadata": {
    "id": "7LOHvBzORt6N"
   },
   "outputs": [],
   "source": [
    "# ==========================================\n",
    "#       Technique3\n",
    "# ==========================================\n",
    "\n",
    "# I improved my learning rate by setting it to .0008 instead of .001 and adding\n",
    "# a third cycle of convolution and pooling (was originally 2), and noticed the\n",
    "# accuracy improving well for taking some more time. I saw a good 6% increase."
   ]
  },
  {
   "cell_type": "markdown",
   "metadata": {
    "collapsed": true,
    "id": "nBHKIxzAYYM2"
   },
   "source": [
    "# Problem 2: Fine Tuning a Pre-Trained Deep Network\n",
    "{Part 1: 20 points} Our convolutional network to this point isn't \"deep\". Fortunately, the representations learned by deep convolutional networks is that they generalize surprisingly well to other recognition tasks.\n",
    "\n",
    "But how do we use an existing deep network for a new recognition task? Take for instance,  [AlexNet](http://papers.nips.cc/paper/4824-imagenet-classification-with-deep-convolutional-neural-networks) network has 1000 units in the final layer corresponding to 1000 ImageNet categories.\n",
    "\n",
    "**Strategy A**: One could use those 1000 activations as a feature in place of a hand crafted feature such as a bag-of-features representation. You would train a classifier (typically a linear SVM) in that 1000 dimensional feature space. However, those activations are clearly very object specific and may not generalize well to new recognition tasks. It is generally better to use the activations in slightly earlier layers of the network, e.g. the 4096 activations in the last 2nd fully-connected layer. You can often get away with sub-sampling those 4096 activations considerably, e.g. taking only the first 200 activations.\n",
    "\n",
    "**Strategy B**: *Fine-tune* an existing network. In this scenario you take an existing network, replace the final layer (or more) with random weights, and train the entire network again with images and ground truth labels for your recognition task. You are effectively treating the pre-trained deep network as a better initialization than the random weights used when training from scratch. When you don't have enough training data to train a complex network from scratch (e.g. with the 16 classes) this is an attractive option. Fine-tuning can work far better than Strategy A of taking the activations directly from an pre-trained CNN. For example, in [this paper](http://www.cc.gatech.edu/~hays/papers/deep_geo.pdf) from CVPR 2015, there wasn't enough data to train a deep network from scratch, but fine tuning led to 4 times higher accuracy than using off-the-shelf networks directly.\n",
    "\n",
    "You are required to implement **Strategy B** to fine-tune a pre-trained **AlexNet** for this scene classification task. You should be able to achieve performance of 85% approximately. It takes roughly 35~40 minutes to train 20 epoches with AlexNet.\n",
    "\n",
    "Please provide detailed descriptions of:<br>\n",
    "(1) which layers of AlexNet have been replaced<br>\n",
    "(2) the architecture of the new layers added including activation methods (same as problem 1)<br>\n",
    "(3) the final accuracy on test set along with time consumption for both training and testing <br>\n",
    "\n",
    "{Part 2: 15 points} Implement Strategy A where you use the activations of the pre-trained network as features to train one-vs-all SVMs for your scene classification task. Report the final accuracy on test set along with time consumption for both training and testing.\n",
    "\n",
    "\n",
    "**Hints**:\n",
    "- Many pre-trained models are available in PyTorch at [here](http://pytorch.org/docs/master/torchvision/models.html).\n",
    "- For fine-tuning pretrained network using PyTorch, please read this [tutorial](http://pytorch.org/tutorials/beginner/transfer_learning_tutorial.html)."
   ]
  },
  {
   "cell_type": "code",
   "execution_count": null,
   "metadata": {
    "id": "VLG3WtEmYYM3"
   },
   "outputs": [],
   "source": [
    "# reload data with a larger size\n",
    "img_size = (224, 224)\n",
    "batch_num = 50 # training sample number per batch\n",
    "\n",
    "# load training dataset\n",
    "trainloader_large = list(load_dataset('./data/train/', img_size, batch_num=batch_num, shuffle=True,\n",
    "                                      augment=False, is_color=True, zero_centered=True))\n",
    "train_num = len(trainloader_large)\n",
    "print(\"Finish loading %d minibatches(=%d) of training samples.\" % (train_num, batch_num))\n",
    "\n",
    "# load testing dataset\n",
    "testloader_large = list(load_dataset('./data/test/', img_size, num_per_class=50, batch_num=batch_num, is_color=True))\n",
    "test_num = len(testloader_large)\n",
    "print(\"Finish loading %d minibatches(=%d) of testing samples.\" % (test_num, batch_num))"
   ]
  },
  {
   "cell_type": "code",
   "execution_count": null,
   "metadata": {
    "id": "btOal_ampEnm"
   },
   "outputs": [],
   "source": [
    "from torchvision import models\n",
    "from torch.optim import lr_scheduler\n",
    "# ==========================================\n",
    "#       Fine-Tune Pretrained Network\n",
    "# ==========================================\n",
    "power = \"cuda\" if torch.cuda.is_available() else \"cpu\"\n",
    "modelft = torch.hub.load('pytorch/vision:v0.10.0', 'alexnet', pretrained=True)\n",
    "modelft.classifier[6] = nn.Linear(4096, 16)\n",
    "for p in modelft.parameters():\n",
    "  p.requires_grad = False\n",
    "for p in modelft.classifier[4].parameters():\n",
    "  p.requires_grad = True\n",
    "modelft = modelft.to(power)\n",
    "modelft.train()\n",
    "\n",
    "'''\n",
    "fullmodel = nn.Sequential(\n",
    "    modelft,\n",
    "    nn.Linear(64, 32),\n",
    "    nn.ReLU(),\n",
    "    nn.Linear(32, 16)\n",
    ")\n",
    "fullmodel = fullmodel.to(power)\n",
    "'''\n",
    "\n",
    "loss = nn.CrossEntropyLoss()\n",
    "learning = .0008\n",
    "opt = optim.SGD(modelft.parameters(), lr=.001, momentum=.9)\n",
    "lr_sched = lr_scheduler.StepLR(opt, step_size=5, gamma=.1)\n",
    "epoch = 20\n",
    "\n",
    "for i in range(epoch):\n",
    "  for batch in trainloader_large:\n",
    "    inputs = batch[0].to(power)\n",
    "    labels = batch[1].to(power)\n",
    "    opt.zero_grad()\n",
    "    pred = modelft(inputs)\n",
    "    l = loss(pred, labels)\n",
    "    l.backward()\n",
    "    opt.step()\n",
    "  lr_sched.step()\n",
    "\n",
    "def score(data, m):\n",
    "  correct = 0\n",
    "  n = 0\n",
    "  m.eval()\n",
    "  with torch.no_grad():\n",
    "    for batch in data:\n",
    "      inputs = batch[0].to(power)\n",
    "      labels = batch[1].to(power)\n",
    "      pred = m(inputs)\n",
    "      _, c = pred.max(1)\n",
    "      correct += (c==labels).sum()\n",
    "      n += pred.size(0)\n",
    "  m.train()\n",
    "  return (correct/n * 100)\n",
    "\n",
    "print(score(testloader_large, modelft))"
   ]
  },
  {
   "cell_type": "code",
   "source": [
    "'''\n",
    "Strategy B:\n",
    "Layers Replaced: 1, the last fully connected layer\n",
    "New Layers: NN.linear, 4096 in_features, 16 out_features at the end of the network\n",
    "^the instructions were to finetune by replacing layers, so I didn't do much\n",
    "as far as adding new ones. I hope that's ok, since it wasn't mentioned as a requirement.\n",
    "\n",
    "Accuracy on test with strategy B: 84.6\n",
    "Time consumed for training: 41s\n",
    "Time consumed for testing: 1s\n",
    "'''"
   ],
   "metadata": {
    "id": "5wcVMSc7hNP_"
   },
   "execution_count": null,
   "outputs": []
  },
  {
   "cell_type": "code",
   "execution_count": null,
   "metadata": {
    "id": "Z_Qd_M638jEB"
   },
   "outputs": [],
   "source": [
    "# NOTE: This strategy is somewhat memory intensive, and there is a slight\n",
    "# chance running this can deplete system memory or CUDA memory.\n",
    "# Don't worry, I just restart the runtime only to test this cell and\n",
    "# run the first few cells (and the trainloader_large cell) to get this cell to\n",
    "# run, and it does. Please do that if the memory crashes.\n",
    "\n",
    "torch.cuda.empty_cache()\n",
    "gc.collect()\n",
    "\n",
    "# Strategy A with alexnet\n",
    "\n",
    "power = \"cuda\" if torch.cuda.is_available() else \"cpu\"\n",
    "alex = torch.hub.load('pytorch/vision:v0.10.0', 'alexnet', pretrained=True)\n",
    "\n",
    "ft_extract = nn.Sequential(\n",
    "    alex.features,\n",
    "    nn.AvgPool2d(1),\n",
    "    nn.Flatten(),\n",
    "    nn.Linear(256*6*6, 512),\n",
    "    nn.ReLU(),\n",
    "    nn.Linear(512, 200)\n",
    "    #nn.Sequential(*list(alex.classifier.children())[:-1])\n",
    ")\n",
    "for p in ft_extract.parameters():\n",
    "  p.requires_grad = False\n",
    "ft_extract.to(power)\n",
    "\n",
    "svm = OVR(LinearSVC(max_iter=2000, dual=False))\n",
    "S = StandardScaler()\n",
    "\n",
    "def ext(x):\n",
    "  with torch.no_grad():\n",
    "    ft = ft_extract(x)\n",
    "  return ft\n",
    "\n",
    "def fit(X, Y):\n",
    "  X = X.to(power)\n",
    "  Y = Y.to(power).cpu().numpy()\n",
    "  X_ft = ext(X).cpu().numpy()\n",
    "  X_norm = (X_ft-(np.mean(X_ft))) / np.std(X_ft)\n",
    "  #X_ft = S.fit_transform(X_ft.cpu().numpy())\n",
    "  svm.fit(X_norm, Y)\n",
    "\n",
    "def pred(X):\n",
    "  X = X.to(power)\n",
    "  X_ft = ext(X).cpu().numpy()\n",
    "  X_norm = (X_ft-(np.mean(X_ft))) / np.std(X_ft)\n",
    "  #X_ft = StandardScaler.fit_transform(X_ft.cpu().numpy())\n",
    "  return svm.predict(X_norm)\n",
    "\n",
    "def parse(dataloader):\n",
    "  img = torch.cat([x[0] for x in dataloader], dim=0)\n",
    "  l = torch.cat([x[1] for x in dataloader], dim=0)\n",
    "  return img,l\n",
    "\n",
    "img, labels = parse(trainloader_large)\n",
    "imgtest, labelstest = parse(testloader_large)\n",
    "fit(img, labels)\n",
    "prediction = pred(imgtest)\n",
    "\n",
    "score = 0\n",
    "for i in range(len(prediction)):\n",
    "  if prediction[i] == labelstest[i]:\n",
    "    score = score+1\n",
    "score = (score/(len(prediction))) * 100\n",
    "print(score)\n"
   ]
  },
  {
   "cell_type": "code",
   "source": [
    "'''\n",
    "Strategy A:\n",
    "Accuracy on test with strategy A: 68.2\n",
    "Time Complexity for training (on GPU): 38s\n",
    "Time Complexity for testing (on GPU): 1s\n",
    "'''"
   ],
   "metadata": {
    "id": "h2193Z7WgU9X"
   },
   "execution_count": null,
   "outputs": []
  },
  {
   "cell_type": "markdown",
   "metadata": {
    "id": "86fnRZjJavAh"
   },
   "source": [
    "## Object Detection\n",
    "\n",
    "In this Part, students will focus on training models for object detection on Cryo-Electron Microscopy (Cryo-EM) data, widely used in structural biology for capturing high-resolution images of molecular complexes. The task involves detecting particles within noisy and low-contrast Cryo-EM images, presenting a challenge typical of this data type.\n",
    "\n",
    "{Part 1: 20 points} Train Faster R-CNN network.\n",
    "\n",
    "{Part 2: 20 points} Train any YOLO network\n",
    "\n",
    "\n"
   ]
  },
  {
   "cell_type": "markdown",
   "metadata": {
    "id": "d27pXIhgavAi"
   },
   "source": [
    "### Faster RCNN"
   ]
  },
  {
   "cell_type": "code",
   "execution_count": 9,
   "metadata": {
    "id": "K2s3A42aavAi"
   },
   "outputs": [],
   "source": [
    "## util function DONT CHANGE\n",
    "\n",
    "import os\n",
    "\n",
    "def get_split_paths(image_dir, annotation_dir):\n",
    "\n",
    "    image_files = os.listdir(image_dir)\n",
    "    image_paths = []\n",
    "    annotation_paths = []\n",
    "\n",
    "    for img_file in image_files:\n",
    "        img_path = os.path.join(image_dir, img_file)\n",
    "        annotation_file = os.path.splitext(img_file)[0] + \".csv\"  # Match file name\n",
    "        annotation_path = os.path.join(annotation_dir, annotation_file)\n",
    "\n",
    "        if os.path.exists(annotation_path):\n",
    "            image_paths.append(img_path)\n",
    "            annotation_paths.append(annotation_path)\n",
    "        else:\n",
    "            print(f\"Warning: No annotation found for {img_file}\")\n",
    "\n",
    "    return image_paths, annotation_paths\n",
    "\n"
   ]
  },
  {
   "cell_type": "code",
   "execution_count": 10,
   "metadata": {
    "id": "AIZ7cTpNavAi"
   },
   "outputs": [],
   "source": [
    "\n",
    "ANNOTATION_DIR = \"CryoEM/particle_coordinates/\"\n",
    "TRAIN_IMAGE_DIR = \"CryoEM/images/train/\"\n",
    "VAL_IMAGE_DIR = \"CryoEM/images/val/\"\n",
    "TEST_IMAGE_DIR = \"CryoEM/images/test/\"\n",
    "\n",
    "\n",
    "train_image_paths, train_annotation_paths = get_split_paths(TRAIN_IMAGE_DIR, ANNOTATION_DIR)\n",
    "val_image_paths, val_annotation_paths = get_split_paths(VAL_IMAGE_DIR, ANNOTATION_DIR)\n",
    "test_image_paths, test_annotation_paths = get_split_paths(TEST_IMAGE_DIR, ANNOTATION_DIR)\n"
   ]
  },
  {
   "cell_type": "code",
   "execution_count": 11,
   "metadata": {
    "id": "-3ImijK5avAi"
   },
   "outputs": [],
   "source": [
    "class ParticleDatasetFromCSV(Dataset):\n",
    "    def __init__(self, image_paths, csv_paths):\n",
    "        \"\"\"\n",
    "        Args:\n",
    "            image_paths (list): List of image file paths.\n",
    "            csv_paths (list): List of corresponding CSV file paths for annotations.\n",
    "            transforms (callable, optional): A function/transform to apply to images and targets.\n",
    "        \"\"\"\n",
    "        self.image_paths = image_paths\n",
    "        self.csv_paths = csv_paths\n",
    "\n",
    "    def __len__(self):\n",
    "        return len(self.image_paths)\n",
    "\n",
    "    def __getitem__(self, idx):\n",
    "        # Load image\n",
    "        img_path = self.image_paths[idx]\n",
    "        img = cv2.imread(img_path)\n",
    "        img = cv2.cvtColor(img, cv2.COLOR_BGR2RGB)\n",
    "        img = torch.as_tensor(img, dtype=torch.float32).permute(2, 0, 1) / 255.0\n",
    "\n",
    "        # Load particle data from CSV\n",
    "        csv_path = self.csv_paths[idx]\n",
    "        df = pd.read_csv(csv_path).to_numpy()\n",
    "        ###TODO###\n",
    "        # Calculate bounding boxes\n",
    "        boxes = []\n",
    "        for l in df:\n",
    "          x = l[0]\n",
    "          y = l[1]\n",
    "          d = l[2]\n",
    "          r = .5*d\n",
    "          boxes.append(np.array([x-r,y-r,x+r,y+r]))\n",
    "        ##########\n",
    "\n",
    "        # Assign a single class label (1) for all boxes\n",
    "        labels = torch.tensor(np.ones(len(boxes)), dtype=torch.int64)\n",
    "\n",
    "        # Prepare target\n",
    "        target = {\"boxes\": torch.tensor(np.array(boxes)), \"labels\": labels}\n",
    "\n",
    "        return img, target\n"
   ]
  },
  {
   "cell_type": "code",
   "execution_count": 12,
   "metadata": {
    "id": "z6hlw7q_avAi"
   },
   "outputs": [],
   "source": [
    "## DONT CHANGE\n",
    "\n",
    "from torch.utils.data import DataLoader\n",
    "\n",
    "# Train dataset\n",
    "train_dataset = ParticleDatasetFromCSV(train_image_paths, train_annotation_paths)\n",
    "# Validation dataset\n",
    "val_dataset = ParticleDatasetFromCSV(val_image_paths, val_annotation_paths)\n",
    "# Test dataset\n",
    "test_dataset = ParticleDatasetFromCSV(test_image_paths, test_annotation_paths)\n",
    "\n",
    "# Collate function\n",
    "def collate_fn(batch):\n",
    "    return tuple(zip(*batch))\n",
    "\n",
    "# DataLoaders\n",
    "train_loader = DataLoader(train_dataset, batch_size=2, shuffle=True, collate_fn=collate_fn)\n",
    "val_loader = DataLoader(val_dataset, batch_size=2, shuffle=False, collate_fn=collate_fn)\n",
    "test_loader = DataLoader(test_dataset, batch_size=2, shuffle=False, collate_fn=collate_fn)\n",
    "\n"
   ]
  },
  {
   "cell_type": "code",
   "execution_count": null,
   "metadata": {
    "id": "t21fwLRjavAi"
   },
   "outputs": [],
   "source": [
    "# NOTE: This strategy is somewhat memory intensive, and there is a decent\n",
    "# chance running this can deplete system memory or CUDA memory assuming you're using T4.\n",
    "# Don't worry, I just restart the runtime only to test this cell and\n",
    "# run only the first few cells (and all the cells in the faster rcnn block) to get\n",
    "# this cell to run, and it does. Please do that if system or GPU memory runs out.\n",
    "# With T4 this took around 11 minutes for me to run. I restarted runtime before doing this. It might take longer otherwise.\n",
    "\n",
    "torch.cuda.empty_cache()\n",
    "gc.collect()\n",
    "os.environ[\"PYTORCH_CUDA_ALLOC_CONF\"]=\"expandable_segments:True\"\n",
    "\n",
    "# Initialize the device\n",
    "power = torch.device(\"cuda\") if torch.cuda.is_available() else torch.device(\"cpu\")\n",
    "\n",
    "# Create your model\n",
    "def create_model(num_classes):\n",
    "    # Load a pre-trained Faster R-CNN model\n",
    "    model = fasterrcnn_resnet50_fpn(pretrained=True)\n",
    "    # Replace the classifier with a new one for our dataset\n",
    "    in_features = model.roi_heads.box_predictor.cls_score.in_features\n",
    "    model.roi_heads.box_predictor = FastRCNNPredictor(in_features, num_classes)\n",
    "\n",
    "    return model\n",
    "\n",
    "def to_dev(x):\n",
    "  y = {}\n",
    "  for k, v in x.items():\n",
    "      y[k] = v.to(power)\n",
    "  return y\n",
    "\n",
    "# Set number of classes: 1 class (particles) + background class\n",
    "num_classes = 2  # Background + particle class\n",
    "\n",
    "# Create the model and move it to device\n",
    "model = create_model(num_classes)\n",
    "model.to(power)\n",
    "num_epochs = 20 #if T4 was faster or if i had more time, I'd make this 50\n",
    "\n",
    "###TODO###\n",
    "# Set up optimizer\n",
    "p = [x for x in model.parameters() if x.requires_grad]\n",
    "optimizer = optim.SGD(p, lr=.001, momentum=.9)\n",
    "##########\n",
    "\n",
    "loss = nn.CrossEntropyLoss()\n",
    "\n",
    "###TODO###\n",
    "# Set up learning rate scheduler\n",
    "lr_sched = lr_scheduler.StepLR(optimizer, step_size=3, gamma=.1)\n",
    "##########\n",
    "\n",
    "# Training Loop\n",
    "model.train()\n",
    "for epoch in range(num_epochs):\n",
    "################*****************************\n",
    "    ###TODO###\n",
    "    # Write training loop\n",
    "    for i, data in enumerate(train_loader):\n",
    "      input, label = data\n",
    "      input = list(x.to(power) for x in input)\n",
    "      label = [{k:(v.to(power)) for k,v in x.items()} for x in label]\n",
    "      #input = (input[0].to(device), input[1].to(device))\n",
    "      #label = (to_dev(label[0]), to_dev(label[1]))\n",
    "      optimizer.zero_grad()\n",
    "      losses = model(input, label)\n",
    "      l = sum(l for l in losses.values())\n",
    "      l.backward()\n",
    "      optimizer.step()\n",
    "    #########\n",
    "\n",
    "    lr_sched.step()\n",
    "\n"
   ]
  },
  {
   "cell_type": "markdown",
   "metadata": {
    "id": "kyDpDJrBavAi"
   },
   "source": [
    "##### Evaluate\n",
    "\n",
    "Run the following two cells to see your model's performance on the test dataset."
   ]
  },
  {
   "cell_type": "code",
   "execution_count": null,
   "metadata": {
    "id": "G68WzFQZavAj"
   },
   "outputs": [],
   "source": [
    "!pip install torchmetrics ## Install torchmetrics for evaluation"
   ]
  },
  {
   "cell_type": "code",
   "execution_count": null,
   "metadata": {
    "id": "mFZ7ClFAavAj"
   },
   "outputs": [],
   "source": [
    "# DONT CHANGE\n",
    "\n",
    "import torch\n",
    "from torchmetrics.detection.mean_ap import MeanAveragePrecision\n",
    "from torchmetrics.functional.classification import precision_recall\n",
    "\n",
    "# Assume `model` is your trained model, and `test_loader` is your DataLoader for the test set\n",
    "device = torch.device(\"cuda\" if torch.cuda.is_available() else \"cpu\")\n",
    "model = model.to(device)\n",
    "\n",
    "# Initialize mean Average Precision (mAP) metric\n",
    "map_metric = MeanAveragePrecision(iou_type=\"bbox\", box_format=\"xyxy\", iou_thresholds=[0.5, 0.75])\n",
    "\n",
    "# Switch model to evaluation mode\n",
    "model.eval()\n",
    "\n",
    "with torch.no_grad():\n",
    "    for batch in tqdm(test_loader):\n",
    "        images, targets = batch  # Assuming the test_loader returns (image, target)\n",
    "        images = [img.to(device) for img in images]\n",
    "\n",
    "        # Run inference\n",
    "        preds = model(images)\n",
    "\n",
    "        # Prepare the output format for metrics\n",
    "        formatted_preds = [\n",
    "            {\n",
    "                \"boxes\": pred[\"boxes\"].detach().cpu(),\n",
    "                \"scores\": pred[\"scores\"].detach().cpu(),\n",
    "                \"labels\": pred[\"labels\"].detach().cpu(),\n",
    "            }\n",
    "            for pred in preds\n",
    "        ]\n",
    "        formatted_targets = [\n",
    "            {\n",
    "                \"boxes\": target[\"boxes\"].detach().cpu(),\n",
    "                \"labels\": target[\"labels\"].detach().cpu(),\n",
    "            }\n",
    "            for target in targets\n",
    "        ]\n",
    "\n",
    "        # Update the mAP metric\n",
    "        map_metric.update(formatted_preds, formatted_targets)\n",
    "\n",
    "# Compute final metrics\n",
    "results = map_metric.compute()\n",
    "print(results)\n"
   ]
  },
  {
   "cell_type": "markdown",
   "metadata": {
    "id": "5tQWtEHPavAj"
   },
   "source": [
    "### YOLO"
   ]
  },
  {
   "cell_type": "markdown",
   "metadata": {
    "id": "Y6BOwjpKavAj"
   },
   "source": [
    "#### Dataset\n",
    "\n",
    "The images for this section are present under CryoEM/images and the corresponding annotation file for each image is present in CryoEM/particle_coordinates. For this assignment we will only use the first three columns of the annotation file.\n",
    "\n",
    "\n",
    "##### YOLO Data Format\n",
    "\n",
    "In order to train YOLO model for our data, we will first have to restructure our data to match with YOLO's requirements, which can be found [here](https://docs.ultralytics.com/datasets/detect/). In brief each image needs a corresponding text file containing normalized bounding box coordinates and size, in corresponding directories based on wheather it is training/validation/testing splits."
   ]
  },
  {
   "cell_type": "code",
   "execution_count": 17,
   "metadata": {
    "id": "-7quq61navAj"
   },
   "outputs": [],
   "source": [
    "# NOTE: YOLOV11 is very memory intensive, so to maintain 20 epochs I used\n",
    "# the v2,8 TPU runtime. It takes a while, so I just decided to add one trained\n",
    "# implementation with 20 epochs, which works with the TPU, and another\n",
    "# with 20 epochs (still very solid) that is meant to work with the T4 GPU's memory.\n",
    "# This one worked for me last-minute, but it really boils down to a gamble with CUDA's\n",
    "# memory. I can't control this, so I ask if it doesnt work with the T4 GPU that you switch to a TPU runtime and\n",
    "# run the first implementation. Both are clearly trained implementations so I don't really see anything wrong with this.\n",
    "\n",
    "from PIL import Image\n",
    "def convert_to_YOLO_format(file_name,IMAGE_DIR,YOLO_anno_dir):\n",
    "    image_path = IMAGE_DIR + file_name + \".jpg\"\n",
    "    anno_path = ANNOTATION_DIR + file_name + \".csv\"\n",
    "    orig_image = np.array(cv2.imread(image_path, cv2.IMREAD_GRAYSCALE))\n",
    "    img_w, img_h = orig_image.shape ##\n",
    "    df = pd.read_csv(anno_path)\n",
    "    df_values = df.iloc[:, :3].to_numpy() #Fill | Slice first three columns\n",
    "    with open(YOLO_anno_dir + file_name + \".txt\", \"w\") as f:\n",
    "        for x,y,d in df_values:\n",
    "            class_int = 1\n",
    "            x_norm = x/img_w\n",
    "            y_norm = y/img_h\n",
    "            w_norm = d/img_w\n",
    "            h_norm = d/img_h\n",
    "            f.write(\"{} {} {} {} {}\\n\".format(class_int,x_norm,y_norm,w_norm,h_norm))\n"
   ]
  },
  {
   "cell_type": "code",
   "execution_count": 18,
   "metadata": {
    "id": "EVAdYAGXavAj"
   },
   "outputs": [],
   "source": [
    "import os\n",
    "ANNOTATION_DIR = \"CryoEM/particle_coordinates/\"\n",
    "\n",
    "\n",
    "TRAIN_IMAGE_DIR = \"CryoEM/images/train/\"\n",
    "TRAIN_YOLO_anno_dir = \"CryoEM/labels/train/\" # Directory to store converted labels\n",
    "\n",
    "VAL_IMAGE_DIR = \"CryoEM/images/val/\"\n",
    "VAL_YOLO_anno_dir = \"CryoEM/labels/val/\" # Directory to store converted labels\n",
    "\n",
    "TEST_IMAGE_DIR = \"CryoEM/images/test/\"\n",
    "TEST_YOLO_anno_dir = \"CryoEM/labels/test/\" # Directory to store converted labels\n",
    "\n",
    "for directory in [TRAIN_YOLO_anno_dir, VAL_YOLO_anno_dir, TEST_YOLO_anno_dir]:\n",
    "    os.makedirs(directory, exist_ok=True)\n",
    "\n",
    "file_names = os.listdir(TRAIN_IMAGE_DIR)\n",
    "for file_path in file_names:\n",
    "    file_name = file_path[:-4]\n",
    "    convert_to_YOLO_format(file_name,TRAIN_IMAGE_DIR,TRAIN_YOLO_anno_dir)\n",
    "\n",
    "file_names = os.listdir(VAL_IMAGE_DIR)\n",
    "for file_path in file_names:\n",
    "    file_name = file_path[:-4]\n",
    "    convert_to_YOLO_format(file_name,VAL_IMAGE_DIR,VAL_YOLO_anno_dir)\n",
    "\n",
    "file_names = os.listdir(TEST_IMAGE_DIR)\n",
    "for file_path in file_names:\n",
    "    file_name = file_path[:-4]\n",
    "    convert_to_YOLO_format(file_name,TEST_IMAGE_DIR,TEST_YOLO_anno_dir)"
   ]
  },
  {
   "cell_type": "markdown",
   "metadata": {
    "id": "4eZRn1GtavAj"
   },
   "source": [
    "#### Training\n",
    "\n",
    "You will have to generate .yaml file as given in the YOLO [docs](https://docs.ultralytics.com/datasets/detect/)."
   ]
  },
  {
   "cell_type": "code",
   "execution_count": null,
   "metadata": {
    "id": "JD3igCbVavAj"
   },
   "outputs": [],
   "source": [
    "# There is no mentioning of testing the YOLO, so I just trained and left it as that.\n",
    "# Dont shoot me for that please!!\n",
    "\n",
    "!pip install ultralytics\n",
    "from ultralytics import YOLO\n",
    "modelYOLO = YOLO(\"yolo11n.pt\") # Fill, You should be able to train a YOLOv11 in colab GPU"
   ]
  },
  {
   "cell_type": "code",
   "execution_count": null,
   "metadata": {
    "id": "wl-oVPgQavAj"
   },
   "outputs": [],
   "source": [
    "# 20 EPOCH TPU IMPLEMENTATION\n",
    "resultsTPU = modelYOLO.train(data=\"cryoem.yaml\", epochs=20, imgsz=640, cache=False)\n",
    "## not sure about imgsz, just resized to 640 because its a good size"
   ]
  },
  {
   "cell_type": "code",
   "source": [
    "# GPU IMPLEMENTATION (20 epochs worked last minute)\n",
    "torch.cuda.empty_cache()\n",
    "gc.collect()\n",
    "os.environ[\"PYTORCH_CUDA_ALLOC_CONF\"]=\"expandable_segments:True\"\n",
    "\n",
    "device = \"cuda\" if torch.cuda.is_available() else \"cpu\"\n",
    "modelYOLO = modelYOLO.to(device)\n",
    "results = modelYOLO.train(data=\"cryoem.yaml\", epochs=20, imgsz=640, cache=False)\n",
    "## not sure about imgsz, just resized to 640 because its a good size\n",
    "\n",
    "# BTW train22 IS THE MOST RECENT RESULT FOLDER FOR MY YOLO MODEL\n",
    "# SORRY I DIDN'T HAVE TIME TO DELETE THE PREVIOUS TRAIN FOLDERS AND START AGAIN"
   ],
   "metadata": {
    "id": "RNWnsL2IB2Hr"
   },
   "execution_count": null,
   "outputs": []
  },
  {
   "cell_type": "markdown",
   "metadata": {
    "id": "5UGefIYpYYNF"
   },
   "source": [
    "## Submission guidelines\n",
    "---\n",
    "Extract the downloaded .zip file to a folder of your preference. The input and output paths are predefined and **DO NOT** change them, (we assume that 'Surname_Givenname_SBUID_hw5' is your working directory, and all the paths are relative to this directory).  The image read and write functions are already written for you. All you need to do is to fill in the blanks as indicated to generate proper outputs. **DO NOT** zip and upload the dataset on blackboard due to size limit.\n",
    "\n",
    "When submitting your .zip file through blackboard, please\n",
    "-- name your .zip file as **Surname_Givenname_SBUID_hw*.zip**.\n",
    "\n",
    "This zip file should include:\n",
    "```\n",
    "Surname_Givenname_SBUID_hw*\n",
    "        |---Surname_Givenname_SBUID_hw*.ipynb\n",
    "        |---Surname_Givenname_SBUID_hw*.pdf\n",
    "```\n",
    "\n",
    "For instance, student Michael Jordan should submit a zip file named \"Jordan_Michael_111134567_hw5.zip\" for homework5 in this structure:\n",
    "```\n",
    "Jordan_Michael_111134567_hw5\n",
    "        |---Jordan_Michael_111134567_hw5.ipynb\n",
    "        |---Jordan_Michael_111134567_hw5.pdf\n",
    "```\n",
    "\n",
    "The **Surname_Givenname_SBUID_hw*.pdf** should include a **google shared link**. To generate the **google shared link**, first create a folder named **Surname_Givenname_SBUID_hw*** in your Google Drive with your Stony Brook account. The structure of the files in the folder should be exactly the same as the one you downloaded. If you alter the folder structures, the grading of your homework will be significantly delayed and possibly penalized.\n",
    "\n",
    "Then right click this folder, click ***Get shareable link***, in the People textfield, enter ***the TA's email***. Make sure that TAs who have the link **can edit**, ***not just*** **can view**, and also **uncheck** the **Notify people** box.\n",
    "\n",
    "Colab has a good feature of version control, you should take advantage of this to save your work properly. However, the timestamp of the submission made in blackboard is the only one that we consider for grading. To be more specific, we will only grade the version of your code right before the timestamp of the submission made in blackboard.\n",
    "\n",
    "You are encouraged to post and answer questions on Piazza. Based on the amount of email that we have received in past years, there might be dealys in replying to personal emails. Please ask questions on Piazza and send emails only for personal issues.\n",
    "\n",
    "Be aware that your code will undergo plagiarism check both vertically and horizontally. Please do your own work.\n",
    "\n",
    "**Late submission penalty:** <br>\n",
    "There will be a 10% penalty per day for late submission. However, you will have 3 days throughout the whole semester to submit late without penalty. Note that the grace period is calculated by days instead of hours. If you submit the homework one minute after the deadline, one late day will be counted. Likewise, if you submit one minute after the deadline, the 10% penaly will be imposed if not using the grace period.\n",
    "\n",
    "## Attention on HW submission\n",
    "---\n",
    "Based on the issues we observed during HW1 grading, we would like to ***stress*** the following.\n",
    "\n",
    "* Submit the ***zip file*** containing (a notebook, pdf of sharable link, results) on Blackboard, ***not only*** the pdf with link.\n",
    "\n",
    "* Link in the pdf should be directed to the ***folder*** on Google Drive, not the notebook alone.\n",
    "\n",
    "* ***DO NOT*** change the structure of the notebook. If you need additional codes, just add new cells. ***DO NOT*** delete existing cells.\n",
    "\n",
    "* Notebook should run without errors by by clicking ***'run all'*** . Verify this before submission. Because we need to run all your notebooks for grading. (Your folder structure, paths on Google Drive should be correct. If you do your HW locally on Jupyter and upload later to Google Drive, ***run and verify*** this on Colab to avoid any ***PENALTY***.)\n",
    "\n",
    "* ***DO NOT*** remove the outputs visualized in the notebook. We check both the codes and the outputs.\n",
    "\n",
    "* Make sure you submit the notebook in which you coded your answers.\n",
    "\n",
    "* Read the questions ***carefully***, as they may contain sub parts or even hints.\n",
    "\n",
    "* Share your notebook with ***EDIT ACCESS*** to ***the TA***: ***namjoshi@cs.stonybrook.edu***. Uncheck the Notify people box.\n",
    "\n",
    "If you don’t follow these instructions you will be penalized and the grading will be significantly delayed.\n",
    "\n"
   ]
  },
  {
   "cell_type": "markdown",
   "metadata": {
    "id": "AYJOi8QYYYNG"
   },
   "source": [
    "<!--Write your report here in markdown or html-->\n"
   ]
  }
 ],
 "metadata": {
  "accelerator": "GPU",
  "anaconda-cloud": {},
  "colab": {
   "gpuType": "T4",
   "provenance": []
  },
  "kernelspec": {
   "display_name": "Python 3 (ipykernel)",
   "name": "python3",
   "language": "python"
  },
  "language_info": {
   "codemirror_mode": {
    "name": "ipython",
    "version": 3
   },
   "file_extension": ".py",
   "mimetype": "text/x-python",
   "name": "python",
   "nbconvert_exporter": "python",
   "pygments_lexer": "ipython3",
   "version": "3.9.18"
  }
 },
 "nbformat": 4,
 "nbformat_minor": 0
}
